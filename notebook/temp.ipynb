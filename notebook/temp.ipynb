{
 "cells": [
  {
   "cell_type": "code",
   "execution_count": 1,
   "metadata": {},
   "outputs": [],
   "source": [
    "from connpass_client import ConnpassClient\n"
   ]
  },
  {
   "cell_type": "code",
   "execution_count": 4,
   "metadata": {},
   "outputs": [],
   "source": [
    "cli = ConnpassClient()\n",
    "event_id = \"266898\"\n",
    "data = cli.get(event_id=event_id)"
   ]
  },
  {
   "cell_type": "code",
   "execution_count": null,
   "metadata": {},
   "outputs": [],
   "source": [
    "data\n",
    "\n"
   ]
  },
  {
   "attachments": {},
   "cell_type": "markdown",
   "metadata": {},
   "source": [
    "- conftest.py を使って api を叩く ティアアップフィクスチャを作成\n",
    "- 実際に以下のテストを書いてみる\n",
    "\n",
    "コントラクトテスト\n",
    "- サービスコントラクトが仕様に従って記述されている\n",
    "- メッセージ要求と応答のセマンティクスが正しい（スキーマ検証）\n",
    "\n",
    "\n",
    "コンポーネントテスト\n",
    "- レスポンスが期待されるベースラインと一致する。これには2つの検証方法があります。\n",
    "    - 回帰/差分 – レスポンスのペイロードが、異なる呼び出しで全く同じであること（基本的にレスポンスのスナップショットを取得し、毎回検証するトップダウンアプローチ）。これはAPIの変更を検出するための有効な手段にもなります（詳細は後で説明します）。\n",
    "    - アサーション – レスポンスの個々の要素が期待を満たしている（これは、レスポンスの特定の値を対象としたより局所的なボトムアップのアプローチです）。\n",
    "\n",
    "シナリオテスト\n",
    "- ユーザーストーリーを確認して、個々のAPI呼び出しを特定する\n",
    "- UIを操作し、背後のAPIに対して行われるトラフィックを取得する"
   ]
  },
  {
   "cell_type": "code",
   "execution_count": null,
   "metadata": {},
   "outputs": [],
   "source": []
  }
 ],
 "metadata": {
  "kernelspec": {
   "display_name": ".venv",
   "language": "python",
   "name": "python3"
  },
  "language_info": {
   "codemirror_mode": {
    "name": "ipython",
    "version": 3
   },
   "file_extension": ".py",
   "mimetype": "text/x-python",
   "name": "python",
   "nbconvert_exporter": "python",
   "pygments_lexer": "ipython3",
   "version": "3.8.3 (default, May 19 2020, 18:47:26) \n[GCC 7.3.0]"
  },
  "orig_nbformat": 4,
  "vscode": {
   "interpreter": {
    "hash": "1ffd3e683729f9e91dc3b4523d14bce54aa8774ac3505a6f5640aa9a3b3f9ba9"
   }
  }
 },
 "nbformat": 4,
 "nbformat_minor": 2
}
